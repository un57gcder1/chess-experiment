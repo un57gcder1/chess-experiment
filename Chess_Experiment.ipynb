{
  "nbformat": 4,
  "nbformat_minor": 0,
  "metadata": {
    "colab": {
      "provenance": []
    },
    "kernelspec": {
      "name": "python3",
      "display_name": "Python 3"
    },
    "language_info": {
      "name": "python"
    },
  "cells": [
    {
      "cell_type": "markdown",
      "source": [
        "# Chess \"Detect Who Is Winning\" AI\n",
        "The AI detects who is winning in a chess game from an image (currently in chess.com style).\n",
        "\n",
        "\n",
        "This is the basic setup:"
      ],
      "metadata": {
        "id": "Rcix21G8mIfU"
      }
    },
    {
      "cell_type": "code",
      "execution_count": null,
      "metadata": {
        "colab": {
          "base_uri": "https://localhost:8080/"
        },
        "id": "dHpzdvypl4aG",
        "outputId": "45be092c-2c95-4858-93c8-0c94d8f30b74"
      },
      "outputs": [
        {
          "output_type": "stream",
          "name": "stdout",
          "text": [
            "\u001b[K     |████████████████████████████████| 719 kB 5.1 MB/s \n",
            "\u001b[K     |████████████████████████████████| 197 kB 48.1 MB/s \n",
            "\u001b[K     |████████████████████████████████| 346 kB 47.0 MB/s \n",
            "\u001b[K     |████████████████████████████████| 1.2 MB 34.3 MB/s \n",
            "\u001b[K     |████████████████████████████████| 4.2 MB 39.5 MB/s \n",
            "\u001b[K     |████████████████████████████████| 59 kB 6.8 MB/s \n",
            "\u001b[K     |████████████████████████████████| 86 kB 5.3 MB/s \n",
            "\u001b[K     |████████████████████████████████| 1.1 MB 17.5 MB/s \n",
            "\u001b[K     |████████████████████████████████| 140 kB 43.8 MB/s \n",
            "\u001b[K     |████████████████████████████████| 86 kB 5.3 MB/s \n",
            "\u001b[K     |████████████████████████████████| 212 kB 39.4 MB/s \n",
            "\u001b[K     |████████████████████████████████| 596 kB 43.2 MB/s \n",
            "\u001b[K     |████████████████████████████████| 127 kB 58.3 MB/s \n",
            "\u001b[K     |████████████████████████████████| 271 kB 60.8 MB/s \n",
            "\u001b[K     |████████████████████████████████| 94 kB 3.1 MB/s \n",
            "\u001b[K     |████████████████████████████████| 144 kB 55.9 MB/s \n",
            "\u001b[K     |████████████████████████████████| 6.6 MB 41.5 MB/s \n",
            "\u001b[31mERROR: pip's dependency resolver does not currently take into account all the packages that are installed. This behaviour is the source of the following dependency conflicts.\n",
            "datascience 0.10.6 requires folium==0.2.1, but you have folium 0.8.3 which is incompatible.\u001b[0m\n",
            "\u001b[?25hMounted at /content/gdrive\n"
          ]
        }
      ],
      "source": [
        "!pip install -Uqq fastbook\n",
        "import fastbook\n",
        "fastbook.setup_book()\n",
        "from fastbook import *"
      ]
    },
    {
      "cell_type": "markdown",
      "source": [
        "## Set Up Dataset\n",
        "Here we are setting up the dataset. Just remember to upload the zipped file of it after zipping the dataset."
      ],
      "metadata": {
        "id": "h3yUTxrwm1wM"
      }
    },
    {
      "cell_type": "code",
      "source": [
        "from fastai.vision.all import *\n",
        "!unzip dataset.zip"
      ],
      "metadata": {
        "colab": {
          "base_uri": "https://localhost:8080/"
        },
        "id": "b5QdbGNhmHU-",
        "outputId": "00da54c2-5197-419b-f44b-146ab534e70f"
      },
      "execution_count": null,
      "outputs": [
        {
          "output_type": "stream",
          "name": "stdout",
          "text": [
            "Archive:  dataset.zip\n",
            "   creating: Chess Winning Side at Moment/\n",
            "   creating: Chess Winning Side at Moment/Black/\n",
            "  inflating: Chess Winning Side at Moment/Black/001.jpeg  \n",
            "  inflating: Chess Winning Side at Moment/Black/002.jpeg  \n",
            "  inflating: Chess Winning Side at Moment/Black/003.jpeg  \n",
            "  inflating: Chess Winning Side at Moment/Black/004.jpeg  \n",
            "  inflating: Chess Winning Side at Moment/Black/005.jpeg  \n",
            "  inflating: Chess Winning Side at Moment/Black/006.jpeg  \n",
            "  inflating: Chess Winning Side at Moment/Black/007.jpeg  \n",
            "  inflating: Chess Winning Side at Moment/Black/008.jpeg  \n",
            "  inflating: Chess Winning Side at Moment/Black/009.jpeg  \n",
            "  inflating: Chess Winning Side at Moment/Black/010.jpeg  \n",
            "  inflating: Chess Winning Side at Moment/Black/011.jpeg  \n",
            "  inflating: Chess Winning Side at Moment/Black/012.jpeg  \n",
            "  inflating: Chess Winning Side at Moment/Black/013.jpeg  \n",
            "  inflating: Chess Winning Side at Moment/Black/014.jpeg  \n",
            "  inflating: Chess Winning Side at Moment/Black/015.jpeg  \n",
            "  inflating: Chess Winning Side at Moment/Black/016.jpeg  \n",
            "  inflating: Chess Winning Side at Moment/Black/017.jpeg  \n",
            "  inflating: Chess Winning Side at Moment/Black/018.jpeg  \n",
            "  inflating: Chess Winning Side at Moment/Black/019.jpeg  \n",
            "  inflating: Chess Winning Side at Moment/Black/020.jpeg  \n",
            "  inflating: Chess Winning Side at Moment/Black/021.jpeg  \n",
            "  inflating: Chess Winning Side at Moment/Black/022.jpeg  \n",
            "  inflating: Chess Winning Side at Moment/Black/023.jpeg  \n",
            "  inflating: Chess Winning Side at Moment/Black/024.jpeg  \n",
            "  inflating: Chess Winning Side at Moment/Black/025.jpeg  \n",
            "  inflating: Chess Winning Side at Moment/Black/026.jpeg  \n",
            "  inflating: Chess Winning Side at Moment/Black/027.jpeg  \n",
            "  inflating: Chess Winning Side at Moment/Black/028.jpeg  \n",
            "  inflating: Chess Winning Side at Moment/Black/029.jpeg  \n",
            "  inflating: Chess Winning Side at Moment/Black/030.jpeg  \n",
            "  inflating: Chess Winning Side at Moment/Black/031.jpeg  \n",
            "  inflating: Chess Winning Side at Moment/Black/032.jpeg  \n",
            "  inflating: Chess Winning Side at Moment/Black/033.jpeg  \n",
            "  inflating: Chess Winning Side at Moment/Black/034.jpeg  \n",
            "  inflating: Chess Winning Side at Moment/Black/035.jpeg  \n",
            "  inflating: Chess Winning Side at Moment/Black/036.jpeg  \n",
            "  inflating: Chess Winning Side at Moment/Black/037.jpeg  \n",
            "  inflating: Chess Winning Side at Moment/Black/038.jpeg  \n",
            "  inflating: Chess Winning Side at Moment/Black/039.jpeg  \n",
            "  inflating: Chess Winning Side at Moment/Black/040.jpeg  \n",
            "  inflating: Chess Winning Side at Moment/Black/041.jpeg  \n",
            "  inflating: Chess Winning Side at Moment/Black/042.jpeg  \n",
            "  inflating: Chess Winning Side at Moment/Black/043.jpeg  \n",
            "  inflating: Chess Winning Side at Moment/Black/044.jpeg  \n",
            "  inflating: Chess Winning Side at Moment/Black/045.jpeg  \n",
            "  inflating: Chess Winning Side at Moment/Black/046.jpeg  \n",
            "  inflating: Chess Winning Side at Moment/Black/047.jpeg  \n",
            "  inflating: Chess Winning Side at Moment/Black/048.jpeg  \n",
            "  inflating: Chess Winning Side at Moment/Black/049.jpeg  \n",
            "  inflating: Chess Winning Side at Moment/Black/050.jpeg  \n",
            "  inflating: Chess Winning Side at Moment/Black/051.jpeg  \n",
            "  inflating: Chess Winning Side at Moment/Black/052.jpeg  \n",
            "  inflating: Chess Winning Side at Moment/Black/053.jpeg  \n",
            "  inflating: Chess Winning Side at Moment/Black/054.jpeg  \n",
            "  inflating: Chess Winning Side at Moment/Black/055.jpeg  \n",
            "  inflating: Chess Winning Side at Moment/Black/056.jpeg  \n",
            "  inflating: Chess Winning Side at Moment/Black/057.jpeg  \n",
            "  inflating: Chess Winning Side at Moment/Black/058.jpeg  \n",
            "  inflating: Chess Winning Side at Moment/Black/059.jpeg  \n",
            "  inflating: Chess Winning Side at Moment/Black/060.jpeg  \n",
            "  inflating: Chess Winning Side at Moment/Black/061.jpeg  \n",
            "  inflating: Chess Winning Side at Moment/Black/062.jpeg  \n",
            "  inflating: Chess Winning Side at Moment/Black/063.jpeg  \n",
            "  inflating: Chess Winning Side at Moment/Black/064.jpeg  \n",
            "  inflating: Chess Winning Side at Moment/Black/065.jpeg  \n",
            "  inflating: Chess Winning Side at Moment/Black/066.jpeg  \n",
            "  inflating: Chess Winning Side at Moment/Black/067.jpeg  \n",
            "  inflating: Chess Winning Side at Moment/Black/068.jpeg  \n",
            "   creating: Chess Winning Side at Moment/None/\n",
            "  inflating: Chess Winning Side at Moment/None/001.jpeg  \n",
            "  inflating: Chess Winning Side at Moment/None/002.jpeg  \n",
            "  inflating: Chess Winning Side at Moment/None/003.jpeg  \n",
            "  inflating: Chess Winning Side at Moment/None/004.jpeg  \n",
            "  inflating: Chess Winning Side at Moment/None/005.jpeg  \n",
            "  inflating: Chess Winning Side at Moment/None/006.jpeg  \n",
            "  inflating: Chess Winning Side at Moment/None/007.jpeg  \n",
            "  inflating: Chess Winning Side at Moment/None/008.jpeg  \n",
            "  inflating: Chess Winning Side at Moment/None/009.jpeg  \n",
            "  inflating: Chess Winning Side at Moment/None/010.jpeg  \n",
            "  inflating: Chess Winning Side at Moment/None/011.jpeg  \n",
            "  inflating: Chess Winning Side at Moment/None/012.jpeg  \n",
            "  inflating: Chess Winning Side at Moment/None/013.jpeg  \n",
            "  inflating: Chess Winning Side at Moment/None/014.jpeg  \n",
            "  inflating: Chess Winning Side at Moment/None/015.jpeg  \n",
            "  inflating: Chess Winning Side at Moment/None/016.jpeg  \n",
            "  inflating: Chess Winning Side at Moment/None/017.jpeg  \n",
            "  inflating: Chess Winning Side at Moment/None/018.jpeg  \n",
            "  inflating: Chess Winning Side at Moment/None/019.jpeg  \n",
            "  inflating: Chess Winning Side at Moment/None/020.jpeg  \n",
            "  inflating: Chess Winning Side at Moment/None/021.jpeg  \n",
            "  inflating: Chess Winning Side at Moment/None/022.jpeg  \n",
            "  inflating: Chess Winning Side at Moment/None/023.jpeg  \n",
            "  inflating: Chess Winning Side at Moment/None/024.jpeg  \n",
            "  inflating: Chess Winning Side at Moment/None/025.jpeg  \n",
            "  inflating: Chess Winning Side at Moment/None/026.jpeg  \n",
            "  inflating: Chess Winning Side at Moment/None/027.jpeg  \n",
            "  inflating: Chess Winning Side at Moment/None/028.jpeg  \n",
            "  inflating: Chess Winning Side at Moment/None/029.jpeg  \n",
            "  inflating: Chess Winning Side at Moment/None/030.jpeg  \n",
            "  inflating: Chess Winning Side at Moment/None/031.jpeg  \n",
            "  inflating: Chess Winning Side at Moment/None/032.jpeg  \n",
            "  inflating: Chess Winning Side at Moment/None/033.jpeg  \n",
            "  inflating: Chess Winning Side at Moment/None/034.jpeg  \n",
            "  inflating: Chess Winning Side at Moment/None/035.jpeg  \n",
            "  inflating: Chess Winning Side at Moment/None/036.jpeg  \n",
            "  inflating: Chess Winning Side at Moment/None/037.jpeg  \n",
            "  inflating: Chess Winning Side at Moment/None/038.jpeg  \n",
            "  inflating: Chess Winning Side at Moment/None/039.jpeg  \n",
            "  inflating: Chess Winning Side at Moment/None/040.jpeg  \n",
            "  inflating: Chess Winning Side at Moment/None/041.jpeg  \n",
            "  inflating: Chess Winning Side at Moment/None/042.jpeg  \n",
            "  inflating: Chess Winning Side at Moment/None/043.jpeg  \n",
            "   creating: Chess Winning Side at Moment/White/\n"
          ]
        }
      ]
    },
    {
      "cell_type": "markdown",
      "source": [
        "Making sure the image files are not corrupt."
      ],
      "metadata": {
        "id": "78BXQ6MInxe9"
      }
    },
    {
      "cell_type": "code",
      "source": [
        "path = Path('dataset')\n",
        "fns = get_image_files(path)\n",
        "failed = verify_images(fns)\n",
        "failed"
      ],
      "metadata": {
        "colab": {
          "base_uri": "https://localhost:8080/"
        },
        "id": "ummQBUfBnaU9",
        "outputId": "77a30053-21ab-438a-ce60-eb4ff545ec7b"
      },
      "execution_count": null,
      "outputs": [
        {
          "output_type": "execute_result",
          "data": {
            "text/plain": [
              "(#0) []"
            ]
          },
          "metadata": {},
          "execution_count": 4
        }
      ]
    },
    {
      "cell_type": "markdown",
      "source": [
        "If there are corrupt image files, run this code, which deletes it."
      ],
      "metadata": {
        "id": "ocbdRJRvoCu9"
      }
    },
    {
      "cell_type": "code",
      "source": [
        "failed.map(Path.unlink)"
      ],
      "metadata": {
        "colab": {
          "base_uri": "https://localhost:8080/"
        },
        "id": "Xfrk_nr4oDPt",
        "outputId": "7f0a3be8-4518-46f2-9e58-46580526b1ee"
      },
      "execution_count": null,
      "outputs": [
        {
          "output_type": "execute_result",
          "data": {
            "text/plain": [
              "(#0) []"
            ]
          },
          "metadata": {},
          "execution_count": 5
        }
      ]
    },
    {
      "cell_type": "markdown",
      "source": [
        "Making the dataset suitable for model use."
      ],
      "metadata": {
        "id": "-4HcCOfloNjc"
      }
    },
    {
      "cell_type": "code",
      "source": [
        "chess = DataBlock(\n",
        "    blocks=(ImageBlock, CategoryBlock),\n",
        "    get_items=get_image_files,\n",
        "    splitter=RandomSplitter(valid_pct=0.2, seed=50),\n",
        "    get_y=parent_label,\n",
        "    item_tfms=Resize(224)\n",
        ")"
      ],
      "metadata": {
        "id": "6ty50QUBoYrd"
      },
      "execution_count": null,
      "outputs": []
    },
    {
      "cell_type": "markdown",
      "source": [
        "Testing the batches to make sure they appear right."
      ],
      "metadata": {
        "id": "5iBMFaEto619"
      }
    },
    {
      "cell_type": "code",
      "source": [
        "dls = chess.dataloaders(path)\n",
        "dls.valid.show_batch(max_n=4, nrows=1)"
      ],
      "metadata": {
        "colab": {
          "base_uri": "https://localhost:8080/",
          "height": 192
        },
        "id": "8BoCdsANo9XE",
        "outputId": "4f9ca575-b962-4b56-c45c-9c4b9c919d2c"
      },
      "execution_count": null,
      "outputs": [
        {
          "output_type": "display_data",
          "data": {
            "text/plain": [
              "<Figure size 864x216 with 4 Axes>"
            ],
            "image/png": "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\n"
          },
          "metadata": {
            "needs_background": "light"
          }
        }
      ]
    },
    {
      "cell_type": "markdown",
      "source": [
        "## Model Training\n",
        "Training the model."
      ],
      "metadata": {
        "id": "C87dGBSHpO-3"
      }
    },
    {
      "cell_type": "code",
      "source": [
        "learn = vision_learner(dls, resnet34, metrics=accuracy)\n",
        "learn.fine_tune(10)"
      ],
      "metadata": {
        "colab": {
          "base_uri": "https://localhost:8080/",
          "height": 476,
          "referenced_widgets": [
            "f6adb26ac8d648db9fa76b918572c3e6",
            "5b197eb4450942168a12ec92fdbdf1f6",
            "e96a8c32f16e4ac8b41c24e720f08a58",
            "02939a36eaf44e94b409ba38e02753e3",
            "60bed092efd1413298aaba3c38e55403",
            "d0cc8021f56945a8b3c2844fa1b0629c",
            "1dc6cbe7bf96470bae25d5044ef83efc",
            "341cfeee790b4896ba629716179664fe",
            "fe3b747a46bf46c29037175b436dfc17",
            "7a8c774cdcad4f1b8af134527c50d4fb",
            "b51572cb84ec4bb9ad03c13a59c49705"
          ]
        },
        "id": "GTTtrCV1pQu3",
        "outputId": "43d9654d-55e5-4bdf-b6c2-5f7f7d4b0e4f"
      },
      "execution_count": null,
      "outputs": [
        {
          "output_type": "stream",
          "name": "stderr",
          "text": [
            "Downloading: \"https://download.pytorch.org/models/resnet34-b627a593.pth\" to /root/.cache/torch/hub/checkpoints/resnet34-b627a593.pth\n"
          ]
        },
        {
          "output_type": "display_data",
          "data": {
            "text/plain": [
              "  0%|          | 0.00/83.3M [00:00<?, ?B/s]"
            ],
            "application/vnd.jupyter.widget-view+json": {
              "version_major": 2,
              "version_minor": 0,
              "model_id": "f6adb26ac8d648db9fa76b918572c3e6"
            }
          },
          "metadata": {}
        },
        {
          "output_type": "display_data",
          "data": {
            "text/plain": [
              "<IPython.core.display.HTML object>"
            ],
            "text/html": [
              "\n",
              "<style>\n",
              "    /* Turns off some styling */\n",
              "    progress {\n",
              "        /* gets rid of default border in Firefox and Opera. */\n",
              "        border: none;\n",
              "        /* Needs to be in here for Safari polyfill so background images work as expected. */\n",
              "        background-size: auto;\n",
              "    }\n",
              "    .progress-bar-interrupted, .progress-bar-interrupted::-webkit-progress-bar {\n",
              "        background: #F44336;\n",
              "    }\n",
              "</style>\n"
            ]
          },
          "metadata": {}
        },
        {
          "output_type": "display_data",
          "data": {
            "text/plain": [
              "<IPython.core.display.HTML object>"
            ],
            "text/html": [
              "<table border=\"1\" class=\"dataframe\">\n",
              "  <thead>\n",
              "    <tr style=\"text-align: left;\">\n",
              "      <th>epoch</th>\n",
              "      <th>train_loss</th>\n",
              "      <th>valid_loss</th>\n",
              "      <th>accuracy</th>\n",
              "      <th>time</th>\n",
              "    </tr>\n",
              "  </thead>\n",
              "  <tbody>\n",
              "    <tr>\n",
              "      <td>0</td>\n",
              "      <td>1.577680</td>\n",
              "      <td>1.709357</td>\n",
              "      <td>0.318182</td>\n",
              "      <td>00:26</td>\n",
              "    </tr>\n",
              "  </tbody>\n",
              "</table>"
            ]
          },
          "metadata": {}
        },
        {
          "output_type": "display_data",
          "data": {
            "text/plain": [
              "<IPython.core.display.HTML object>"
            ],
            "text/html": [
              "\n",
              "<style>\n",
              "    /* Turns off some styling */\n",
              "    progress {\n",
              "        /* gets rid of default border in Firefox and Opera. */\n",
              "        border: none;\n",
              "        /* Needs to be in here for Safari polyfill so background images work as expected. */\n",
              "        background-size: auto;\n",
              "    }\n",
              "    .progress-bar-interrupted, .progress-bar-interrupted::-webkit-progress-bar {\n",
              "        background: #F44336;\n",
              "    }\n",
              "</style>\n"
            ]
          },
          "metadata": {}
        },
        {
          "output_type": "display_data",
          "data": {
            "text/plain": [
              "<IPython.core.display.HTML object>"
            ],
            "text/html": [
              "<table border=\"1\" class=\"dataframe\">\n",
              "  <thead>\n",
              "    <tr style=\"text-align: left;\">\n",
              "      <th>epoch</th>\n",
              "      <th>train_loss</th>\n",
              "      <th>valid_loss</th>\n",
              "      <th>accuracy</th>\n",
              "      <th>time</th>\n",
              "    </tr>\n",
              "  </thead>\n",
              "  <tbody>\n",
              "    <tr>\n",
              "      <td>0</td>\n",
              "      <td>1.664160</td>\n",
              "      <td>1.311116</td>\n",
              "      <td>0.318182</td>\n",
              "      <td>00:37</td>\n",
              "    </tr>\n",
              "    <tr>\n",
              "      <td>1</td>\n",
              "      <td>0.966219</td>\n",
              "      <td>1.041044</td>\n",
              "      <td>0.363636</td>\n",
              "      <td>00:36</td>\n",
              "    </tr>\n",
              "    <tr>\n",
              "      <td>2</td>\n",
              "      <td>0.670008</td>\n",
              "      <td>0.856140</td>\n",
              "      <td>0.545455</td>\n",
              "      <td>00:37</td>\n",
              "    </tr>\n",
              "    <tr>\n",
              "      <td>3</td>\n",
              "      <td>0.498893</td>\n",
              "      <td>0.627814</td>\n",
              "      <td>0.590909</td>\n",
              "      <td>00:36</td>\n",
              "    </tr>\n",
              "    <tr>\n",
              "      <td>4</td>\n",
              "      <td>0.398042</td>\n",
              "      <td>0.458988</td>\n",
              "      <td>0.818182</td>\n",
              "      <td>00:36</td>\n",
              "    </tr>\n",
              "    <tr>\n",
              "      <td>5</td>\n",
              "      <td>0.343642</td>\n",
              "      <td>0.287975</td>\n",
              "      <td>0.818182</td>\n",
              "      <td>00:36</td>\n",
              "    </tr>\n",
              "    <tr>\n",
              "      <td>6</td>\n",
              "      <td>0.292087</td>\n",
              "      <td>0.196118</td>\n",
              "      <td>0.954545</td>\n",
              "      <td>00:37</td>\n",
              "    </tr>\n",
              "    <tr>\n",
              "      <td>7</td>\n",
              "      <td>0.257152</td>\n",
              "      <td>0.143339</td>\n",
              "      <td>0.954545</td>\n",
              "      <td>00:37</td>\n",
              "    </tr>\n",
              "    <tr>\n",
              "      <td>8</td>\n",
              "      <td>0.226282</td>\n",
              "      <td>0.121923</td>\n",
              "      <td>0.954545</td>\n",
              "      <td>00:36</td>\n",
              "    </tr>\n",
              "    <tr>\n",
              "      <td>9</td>\n",
              "      <td>0.201710</td>\n",
              "      <td>0.110975</td>\n",
              "      <td>0.954545</td>\n",
              "      <td>00:37</td>\n",
              "    </tr>\n",
              "  </tbody>\n",
              "</table>"
            ]
          },
          "metadata": {}
        }
      ]
    },
    {
      "cell_type": "markdown",
      "source": [
        "## Uploading a Model File\n",
        "\n",
        "Upload the file in the 'files' column and then run this code."
      ],
      "metadata": {
        "id": "fHxoaLAZv9zs"
      }
    },
    {
      "cell_type": "code",
      "source": [
        "path = Path()\n",
        "learn = load_learner(path/'export.pkl')\n"
      ],
      "metadata": {
        "id": "8QKL2ufPwNeE"
      },
      "execution_count": null,
      "outputs": []
    },
    {
      "cell_type": "markdown",
      "source": [
        "## Predicting with the Model\n",
        "Creating a confusion matrix. (Not really useful in this case, but just for reference)."
      ],
      "metadata": {
        "id": "Q-6hHnxIpqHN"
      }
    },
    {
      "cell_type": "code",
      "source": [
        "interp = ClassificationInterpretation.from_learner(learn)\n",
        "interp.plot_confusion_matrix()"
      ],
      "metadata": {
        "colab": {
          "base_uri": "https://localhost:8080/",
          "height": 311
        },
        "id": "NvLSuaU_pslc",
        "outputId": "78965918-bf25-4e21-e7f9-e05d263b9e6d"
      },
      "execution_count": null,
      "outputs": [
        {
          "output_type": "display_data",
          "data": {
            "text/plain": [
              "<IPython.core.display.HTML object>"
            ],
            "text/html": [
              "\n",
              "<style>\n",
              "    /* Turns off some styling */\n",
              "    progress {\n",
              "        /* gets rid of default border in Firefox and Opera. */\n",
              "        border: none;\n",
              "        /* Needs to be in here for Safari polyfill so background images work as expected. */\n",
              "        background-size: auto;\n",
              "    }\n",
              "    .progress-bar-interrupted, .progress-bar-interrupted::-webkit-progress-bar {\n",
              "        background: #F44336;\n",
              "    }\n",
              "</style>\n"
            ]
          },
          "metadata": {}
        },
        {
          "output_type": "display_data",
          "data": {
            "text/plain": [
              "<IPython.core.display.HTML object>"
            ],
            "text/html": [
              ""
            ]
          },
          "metadata": {}
        },
        {
          "output_type": "display_data",
          "data": {
            "text/plain": [
              "<IPython.core.display.HTML object>"
            ],
            "text/html": [
              "\n",
              "<style>\n",
              "    /* Turns off some styling */\n",
              "    progress {\n",
              "        /* gets rid of default border in Firefox and Opera. */\n",
              "        border: none;\n",
              "        /* Needs to be in here for Safari polyfill so background images work as expected. */\n",
              "        background-size: auto;\n",
              "    }\n",
              "    .progress-bar-interrupted, .progress-bar-interrupted::-webkit-progress-bar {\n",
              "        background: #F44336;\n",
              "    }\n",
              "</style>\n"
            ]
          },
          "metadata": {}
        },
        {
          "output_type": "display_data",
          "data": {
            "text/plain": [
              "<IPython.core.display.HTML object>"
            ],
            "text/html": [
              ""
            ]
          },
          "metadata": {}
        },
        {
          "output_type": "display_data",
          "data": {
            "text/plain": [
              "<Figure size 432x288 with 1 Axes>"
            ],
            "image/png": "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\n"
          },
          "metadata": {
            "needs_background": "light"
          }
        }
      ]
    },
    {
      "cell_type": "markdown",
      "source": [
        "Plotting the top losses:"
      ],
      "metadata": {
        "id": "krojIo7jqyYF"
      }
    },
    {
      "cell_type": "code",
      "source": [
        "interp.plot_top_losses(5, nrows=1)"
      ],
      "metadata": {
        "colab": {
          "base_uri": "https://localhost:8080/",
          "height": 206
        },
        "id": "y3GSKZJSq2FF",
        "outputId": "ed80797d-03c4-4043-aa18-207567370788"
      },
      "execution_count": null,
      "outputs": [
        {
          "output_type": "display_data",
          "data": {
            "text/plain": [
              "<IPython.core.display.HTML object>"
            ],
            "text/html": [
              "\n",
              "<style>\n",
              "    /* Turns off some styling */\n",
              "    progress {\n",
              "        /* gets rid of default border in Firefox and Opera. */\n",
              "        border: none;\n",
              "        /* Needs to be in here for Safari polyfill so background images work as expected. */\n",
              "        background-size: auto;\n",
              "    }\n",
              "    .progress-bar-interrupted, .progress-bar-interrupted::-webkit-progress-bar {\n",
              "        background: #F44336;\n",
              "    }\n",
              "</style>\n"
            ]
          },
          "metadata": {}
        },
        {
          "output_type": "display_data",
          "data": {
            "text/plain": [
              "<IPython.core.display.HTML object>"
            ],
            "text/html": [
              ""
            ]
          },
          "metadata": {}
        },
        {
          "output_type": "display_data",
          "data": {
            "text/plain": [
              "<Figure size 1080x216 with 5 Axes>"
            ],
            "image/png": "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\n"
          },
          "metadata": {
            "needs_background": "light"
          }
        }
      ]
    },
    {
      "cell_type": "markdown",
      "source": [
        "Uploading test image:"
      ],
      "metadata": {
        "id": "TgQWqAu8sD7F"
      }
    },
    {
      "cell_type": "code",
      "source": [
        "uploader = widgets.FileUpload()\n",
        "uploader"
      ],
      "metadata": {
        "colab": {
          "base_uri": "https://localhost:8080/",
          "height": 49,
          "referenced_widgets": [
            "8cff7b72c17e4d379eb0930aeeee7e3c",
            "d2432aeb94fa4b4293705a2b4124d9a9",
            "e5367dea87de41f7bb6e80dd18ccb398"
          ]
        },
        "id": "POlL_WcosGS7",
        "outputId": "bcc0481b-ed23-4e78-9b0f-60ae5e32949d"
      },
      "execution_count": null,
      "outputs": [
        {
          "output_type": "display_data",
          "data": {
            "text/plain": [
              "FileUpload(value={}, description='Upload')"
            ],
            "application/vnd.jupyter.widget-view+json": {
              "version_major": 2,
              "version_minor": 0,
              "model_id": "8cff7b72c17e4d379eb0930aeeee7e3c"
            }
          },
          "metadata": {}
        }
      ]
    },
    {
      "cell_type": "markdown",
      "source": [
        "Testing model with image:"
      ],
      "metadata": {
        "id": "kPwnqj7qsNOc"
      }
    },
    {
      "cell_type": "code",
      "source": [
        "img = PILImage.create(uploader.data[0])\n",
        "is_what,_,probs = learn.predict(img)\n",
        "print(learn.predict(img))\n",
        "print(f\"Who is winning?: {is_what}.\")"
      ],
      "metadata": {
        "colab": {
          "base_uri": "https://localhost:8080/",
          "height": 52
        },
        "id": "-xBLvinesRMI",
        "outputId": "617ee743-12b5-43a1-c454-adedf9578b36"
      },
      "execution_count": null,
      "outputs": [
        {
          "output_type": "display_data",
          "data": {
            "text/plain": [
              "<IPython.core.display.HTML object>"
            ],
            "text/html": [
              "\n",
              "<style>\n",
              "    /* Turns off some styling */\n",
              "    progress {\n",
              "        /* gets rid of default border in Firefox and Opera. */\n",
              "        border: none;\n",
              "        /* Needs to be in here for Safari polyfill so background images work as expected. */\n",
              "        background-size: auto;\n",
              "    }\n",
              "    .progress-bar-interrupted, .progress-bar-interrupted::-webkit-progress-bar {\n",
              "        background: #F44336;\n",
              "    }\n",
              "</style>\n"
            ]
          },
          "metadata": {}
        },
        {
          "output_type": "display_data",
          "data": {
            "text/plain": [
              "<IPython.core.display.HTML object>"
            ],
            "text/html": [
              ""
            ]
          },
          "metadata": {}
        },
        {
          "output_type": "display_data",
          "data": {
            "text/plain": [
              "<IPython.core.display.HTML object>"
            ],
            "text/html": [
              "\n",
              "<style>\n",
              "    /* Turns off some styling */\n",
              "    progress {\n",
              "        /* gets rid of default border in Firefox and Opera. */\n",
              "        border: none;\n",
              "        /* Needs to be in here for Safari polyfill so background images work as expected. */\n",
              "        background-size: auto;\n",
              "    }\n",
              "    .progress-bar-interrupted, .progress-bar-interrupted::-webkit-progress-bar {\n",
              "        background: #F44336;\n",
              "    }\n",
              "</style>\n"
            ]
          },
          "metadata": {}
        },
        {
          "output_type": "display_data",
          "data": {
            "text/plain": [
              "<IPython.core.display.HTML object>"
            ],
            "text/html": [
              ""
            ]
          },
          "metadata": {}
        },
        {
          "output_type": "stream",
          "name": "stdout",
          "text": [
            "('Black', TensorBase(0), TensorBase([0.6994, 0.3006]))\n",
            "Who is winning?: Black.\n"
          ]
        }
      ]
    },
    {
      "cell_type": "markdown",
      "source": [
        "## Exporting the Model\n",
        "Exporting the image to a file, **remember to save it if you want to use it to predict**."
      ],
      "metadata": {
        "id": "jSeCBk6iuVv9"
      }
    },
    {
      "cell_type": "code",
      "source": [
        "file = learn.export()\n",
        "path = Path()\n",
        "path.ls(file_exts='.pkl')"
      ],
      "metadata": {
        "colab": {
          "base_uri": "https://localhost:8080/"
        },
        "id": "kBs4CaxnudMl",
        "outputId": "50b86d1d-4836-4d45-8a2d-8846603bb3b2"
      },
      "execution_count": null,
      "outputs": [
        {
          "output_type": "execute_result",
          "data": {
            "text/plain": [
              "(#1) [Path('export.pkl')]"
            ]
          },
          "metadata": {},
          "execution_count": 40
        }
      ]
    }
  ]
}
